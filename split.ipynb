{
 "cells": [
  {
   "cell_type": "code",
   "execution_count": 3,
   "id": "4f6a2626-4fb0-4876-aba9-973e3b939fe7",
   "metadata": {},
   "outputs": [
    {
     "name": "stdout",
     "output_type": "stream",
     "text": [
      "Splits and output text files created successfully.\n"
     ]
    }
   ],
   "source": [
    "import os\n",
    "import random\n",
    "\n",
    "# Define file paths\n",
    "train_file_path = \"/home/scott/Projects/DissertationProject/data/raw/splits/train_split_1.txt\"\n",
    "test_file_path = \"/home/scott/Projects/DissertationProject/data/raw/splits/test_split_1.txt\"\n",
    "\n",
    "# Define output base directory\n",
    "output_base_dir = \"/home/scott/Projects/DissertationProject/data/splits\"\n",
    "\n",
    "# Function to read directories from a text file\n",
    "def read_directories(file_path):\n",
    "    with open(file_path, 'r') as file:\n",
    "        directories = file.read().splitlines()\n",
    "    return directories\n",
    "\n",
    "# Function to split directories based on specific counts\n",
    "def split_directories(directories, train_count_0, train_count_1, test_count_0, test_count_1):\n",
    "    directories_0 = [d for d in directories if d.endswith('_0')]\n",
    "    directories_1 = [d for d in directories if d.endswith('_1')]\n",
    "\n",
    "    random.shuffle(directories_0)\n",
    "    random.shuffle(directories_1)\n",
    "\n",
    "    train_dirs = directories_0[:train_count_0] + directories_1[:train_count_1]\n",
    "    test_dirs = directories_0[train_count_0:train_count_0 + test_count_0] + directories_1[train_count_1:train_count_1 + test_count_1]\n",
    "\n",
    "    random.shuffle(train_dirs)\n",
    "    random.shuffle(test_dirs)\n",
    "\n",
    "    return train_dirs, test_dirs\n",
    "\n",
    "# Function to write directories to a text file\n",
    "def write_directories_to_file(directories, file_path):\n",
    "    # Ensure the output directory exists\n",
    "    os.makedirs(os.path.dirname(file_path), exist_ok=True)\n",
    "    with open(file_path, 'w') as file:\n",
    "        for directory in directories:\n",
    "            file.write(f\"{directory}\\n\")\n",
    "\n",
    "# Read directories from train and test split files\n",
    "train_directories = read_directories(train_file_path)\n",
    "test_directories = read_directories(test_file_path)\n",
    "\n",
    "# Combine all directories for shuffling and splitting\n",
    "all_directories = train_directories + test_directories\n",
    "\n",
    "# Define split specifications\n",
    "split_specifications = {\n",
    "    \"50_50\": (139, 67, 139, 67),\n",
    "    \"60_40\": (166, 180, 112, 54),\n",
    "    \"90_10\": (250, 120, 28, 14)\n",
    "}\n",
    "\n",
    "# Loop through each split specification and create the splits\n",
    "for split_name, (train_count_0, train_count_1, test_count_0, test_count_1) in split_specifications.items():\n",
    "    train_dirs, test_dirs = split_directories(all_directories, train_count_0, train_count_1, test_count_0, test_count_1)\n",
    "    \n",
    "    # Create output file paths\n",
    "    train_file_output_path = os.path.join(output_base_dir, f'train_split_{split_name}.txt')\n",
    "    test_file_output_path = os.path.join(output_base_dir, f'test_split_{split_name}.txt')\n",
    "    \n",
    "    # Write directories to text files\n",
    "    write_directories_to_file(train_dirs, train_file_output_path)\n",
    "    write_directories_to_file(test_dirs, test_file_output_path)\n",
    "\n",
    "print(\"Splits and output text files created successfully.\")\n"
   ]
  },
  {
   "cell_type": "code",
   "execution_count": null,
   "id": "560a214a-02ed-461b-af48-f17c6532d541",
   "metadata": {},
   "outputs": [],
   "source": []
  }
 ],
 "metadata": {
  "kernelspec": {
   "display_name": "Python (myenv)",
   "language": "python",
   "name": "myenv"
  },
  "language_info": {
   "codemirror_mode": {
    "name": "ipython",
    "version": 3
   },
   "file_extension": ".py",
   "mimetype": "text/x-python",
   "name": "python",
   "nbconvert_exporter": "python",
   "pygments_lexer": "ipython3",
   "version": "3.10.12"
  }
 },
 "nbformat": 4,
 "nbformat_minor": 5
}
